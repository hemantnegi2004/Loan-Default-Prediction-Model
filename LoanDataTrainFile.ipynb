{
 "cells": [
  {
   "cell_type": "markdown",
   "id": "a4d2b402-0b33-401e-aed7-62c98bb65bdb",
   "metadata": {},
   "source": [
    "## Importing Important Libraries"
   ]
  },
  {
   "cell_type": "code",
   "execution_count": 1,
   "id": "be14a427-a3c2-4a5b-a189-4a7159daf3eb",
   "metadata": {},
   "outputs": [],
   "source": [
    "import pandas as pd\n",
    "import numpy as np\n",
    "import seaborn as sns\n",
    "import os\n",
    "import matplotlib.pyplot as plt\n",
    "%matplotlib inline"
   ]
  },
  {
   "cell_type": "code",
   "execution_count": 2,
   "id": "97f1e059-9d21-4080-a1f3-6e88faf4bd3d",
   "metadata": {},
   "outputs": [],
   "source": [
    "os.chdir('D:\\\\ALABS\\\\ML\\\\ML ONLINE JAN25 _ Class 7 Machine Learning using Python (Online) JAN 2025')"
   ]
  },
  {
   "cell_type": "markdown",
   "id": "53ed57a4-be32-4251-9a58-79ce9c7eab92",
   "metadata": {},
   "source": [
    "## Loading The Dataset"
   ]
  },
  {
   "cell_type": "code",
   "execution_count": 3,
   "id": "171fd7ca-d50e-422c-8636-53feba864289",
   "metadata": {},
   "outputs": [
    {
     "data": {
      "text/html": [
       "<div>\n",
       "<style scoped>\n",
       "    .dataframe tbody tr th:only-of-type {\n",
       "        vertical-align: middle;\n",
       "    }\n",
       "\n",
       "    .dataframe tbody tr th {\n",
       "        vertical-align: top;\n",
       "    }\n",
       "\n",
       "    .dataframe thead th {\n",
       "        text-align: right;\n",
       "    }\n",
       "</style>\n",
       "<table border=\"1\" class=\"dataframe\">\n",
       "  <thead>\n",
       "    <tr style=\"text-align: right;\">\n",
       "      <th></th>\n",
       "      <th>Loan_ID</th>\n",
       "      <th>Gender</th>\n",
       "      <th>Married</th>\n",
       "      <th>Dependents</th>\n",
       "      <th>Education</th>\n",
       "      <th>Self_Employed</th>\n",
       "      <th>ApplicantIncome</th>\n",
       "      <th>CoapplicantIncome</th>\n",
       "      <th>LoanAmount</th>\n",
       "      <th>Loan_Amount_Term</th>\n",
       "      <th>Credit_History</th>\n",
       "      <th>Property_Area</th>\n",
       "      <th>Loan_Status</th>\n",
       "    </tr>\n",
       "  </thead>\n",
       "  <tbody>\n",
       "    <tr>\n",
       "      <th>0</th>\n",
       "      <td>LP001002</td>\n",
       "      <td>Male</td>\n",
       "      <td>No</td>\n",
       "      <td>0</td>\n",
       "      <td>Graduate</td>\n",
       "      <td>No</td>\n",
       "      <td>5849</td>\n",
       "      <td>0.0</td>\n",
       "      <td>NaN</td>\n",
       "      <td>360.0</td>\n",
       "      <td>1.0</td>\n",
       "      <td>Urban</td>\n",
       "      <td>Y</td>\n",
       "    </tr>\n",
       "    <tr>\n",
       "      <th>1</th>\n",
       "      <td>LP001003</td>\n",
       "      <td>Male</td>\n",
       "      <td>Yes</td>\n",
       "      <td>1</td>\n",
       "      <td>Graduate</td>\n",
       "      <td>No</td>\n",
       "      <td>4583</td>\n",
       "      <td>1508.0</td>\n",
       "      <td>128.0</td>\n",
       "      <td>360.0</td>\n",
       "      <td>1.0</td>\n",
       "      <td>Rural</td>\n",
       "      <td>N</td>\n",
       "    </tr>\n",
       "    <tr>\n",
       "      <th>2</th>\n",
       "      <td>LP001005</td>\n",
       "      <td>Male</td>\n",
       "      <td>Yes</td>\n",
       "      <td>0</td>\n",
       "      <td>Graduate</td>\n",
       "      <td>Yes</td>\n",
       "      <td>3000</td>\n",
       "      <td>0.0</td>\n",
       "      <td>66.0</td>\n",
       "      <td>360.0</td>\n",
       "      <td>1.0</td>\n",
       "      <td>Urban</td>\n",
       "      <td>Y</td>\n",
       "    </tr>\n",
       "    <tr>\n",
       "      <th>3</th>\n",
       "      <td>LP001006</td>\n",
       "      <td>Male</td>\n",
       "      <td>Yes</td>\n",
       "      <td>0</td>\n",
       "      <td>Not Graduate</td>\n",
       "      <td>No</td>\n",
       "      <td>2583</td>\n",
       "      <td>2358.0</td>\n",
       "      <td>120.0</td>\n",
       "      <td>360.0</td>\n",
       "      <td>1.0</td>\n",
       "      <td>Urban</td>\n",
       "      <td>Y</td>\n",
       "    </tr>\n",
       "    <tr>\n",
       "      <th>4</th>\n",
       "      <td>LP001008</td>\n",
       "      <td>Male</td>\n",
       "      <td>No</td>\n",
       "      <td>0</td>\n",
       "      <td>Graduate</td>\n",
       "      <td>No</td>\n",
       "      <td>6000</td>\n",
       "      <td>0.0</td>\n",
       "      <td>141.0</td>\n",
       "      <td>360.0</td>\n",
       "      <td>1.0</td>\n",
       "      <td>Urban</td>\n",
       "      <td>Y</td>\n",
       "    </tr>\n",
       "  </tbody>\n",
       "</table>\n",
       "</div>"
      ],
      "text/plain": [
       "    Loan_ID Gender Married Dependents     Education Self_Employed  \\\n",
       "0  LP001002   Male      No          0      Graduate            No   \n",
       "1  LP001003   Male     Yes          1      Graduate            No   \n",
       "2  LP001005   Male     Yes          0      Graduate           Yes   \n",
       "3  LP001006   Male     Yes          0  Not Graduate            No   \n",
       "4  LP001008   Male      No          0      Graduate            No   \n",
       "\n",
       "   ApplicantIncome  CoapplicantIncome  LoanAmount  Loan_Amount_Term  \\\n",
       "0             5849                0.0         NaN             360.0   \n",
       "1             4583             1508.0       128.0             360.0   \n",
       "2             3000                0.0        66.0             360.0   \n",
       "3             2583             2358.0       120.0             360.0   \n",
       "4             6000                0.0       141.0             360.0   \n",
       "\n",
       "   Credit_History Property_Area Loan_Status  \n",
       "0             1.0         Urban           Y  \n",
       "1             1.0         Rural           N  \n",
       "2             1.0         Urban           Y  \n",
       "3             1.0         Urban           Y  \n",
       "4             1.0         Urban           Y  "
      ]
     },
     "execution_count": 3,
     "metadata": {},
     "output_type": "execute_result"
    }
   ],
   "source": [
    "df = pd.read_csv('train_Loan_Pred - 1739709327697.csv')\n",
    "df.head()"
   ]
  },
  {
   "cell_type": "code",
   "execution_count": 4,
   "id": "d2b9be63-b154-4a3e-9018-4215249307fc",
   "metadata": {},
   "outputs": [
    {
     "name": "stdout",
     "output_type": "stream",
     "text": [
      "<class 'pandas.core.frame.DataFrame'>\n",
      "RangeIndex: 614 entries, 0 to 613\n",
      "Data columns (total 13 columns):\n",
      " #   Column             Non-Null Count  Dtype  \n",
      "---  ------             --------------  -----  \n",
      " 0   Loan_ID            614 non-null    object \n",
      " 1   Gender             601 non-null    object \n",
      " 2   Married            611 non-null    object \n",
      " 3   Dependents         599 non-null    object \n",
      " 4   Education          614 non-null    object \n",
      " 5   Self_Employed      582 non-null    object \n",
      " 6   ApplicantIncome    614 non-null    int64  \n",
      " 7   CoapplicantIncome  614 non-null    float64\n",
      " 8   LoanAmount         592 non-null    float64\n",
      " 9   Loan_Amount_Term   600 non-null    float64\n",
      " 10  Credit_History     564 non-null    float64\n",
      " 11  Property_Area      614 non-null    object \n",
      " 12  Loan_Status        614 non-null    object \n",
      "dtypes: float64(4), int64(1), object(8)\n",
      "memory usage: 62.5+ KB\n"
     ]
    }
   ],
   "source": [
    "df.info()"
   ]
  },
  {
   "cell_type": "code",
   "execution_count": 5,
   "id": "d5e91fd4-3ffd-45c4-bed3-76bf5391219b",
   "metadata": {},
   "outputs": [
    {
     "data": {
      "text/html": [
       "<div>\n",
       "<style scoped>\n",
       "    .dataframe tbody tr th:only-of-type {\n",
       "        vertical-align: middle;\n",
       "    }\n",
       "\n",
       "    .dataframe tbody tr th {\n",
       "        vertical-align: top;\n",
       "    }\n",
       "\n",
       "    .dataframe thead th {\n",
       "        text-align: right;\n",
       "    }\n",
       "</style>\n",
       "<table border=\"1\" class=\"dataframe\">\n",
       "  <thead>\n",
       "    <tr style=\"text-align: right;\">\n",
       "      <th></th>\n",
       "      <th>Loan_ID</th>\n",
       "      <th>Gender</th>\n",
       "      <th>Married</th>\n",
       "      <th>Dependents</th>\n",
       "      <th>Education</th>\n",
       "      <th>Self_Employed</th>\n",
       "      <th>ApplicantIncome</th>\n",
       "      <th>CoapplicantIncome</th>\n",
       "      <th>LoanAmount</th>\n",
       "      <th>Loan_Amount_Term</th>\n",
       "      <th>Credit_History</th>\n",
       "      <th>Property_Area</th>\n",
       "      <th>Loan_Status</th>\n",
       "    </tr>\n",
       "  </thead>\n",
       "  <tbody>\n",
       "    <tr>\n",
       "      <th>0</th>\n",
       "      <td>LP001002</td>\n",
       "      <td>Male</td>\n",
       "      <td>No</td>\n",
       "      <td>0</td>\n",
       "      <td>Graduate</td>\n",
       "      <td>No</td>\n",
       "      <td>5849</td>\n",
       "      <td>0.0</td>\n",
       "      <td>NaN</td>\n",
       "      <td>360.0</td>\n",
       "      <td>1.0</td>\n",
       "      <td>Urban</td>\n",
       "      <td>Y</td>\n",
       "    </tr>\n",
       "    <tr>\n",
       "      <th>1</th>\n",
       "      <td>LP001003</td>\n",
       "      <td>Male</td>\n",
       "      <td>Yes</td>\n",
       "      <td>1</td>\n",
       "      <td>Graduate</td>\n",
       "      <td>No</td>\n",
       "      <td>4583</td>\n",
       "      <td>1508.0</td>\n",
       "      <td>128.0</td>\n",
       "      <td>360.0</td>\n",
       "      <td>1.0</td>\n",
       "      <td>Rural</td>\n",
       "      <td>N</td>\n",
       "    </tr>\n",
       "    <tr>\n",
       "      <th>2</th>\n",
       "      <td>LP001005</td>\n",
       "      <td>Male</td>\n",
       "      <td>Yes</td>\n",
       "      <td>0</td>\n",
       "      <td>Graduate</td>\n",
       "      <td>Yes</td>\n",
       "      <td>3000</td>\n",
       "      <td>0.0</td>\n",
       "      <td>66.0</td>\n",
       "      <td>360.0</td>\n",
       "      <td>1.0</td>\n",
       "      <td>Urban</td>\n",
       "      <td>Y</td>\n",
       "    </tr>\n",
       "  </tbody>\n",
       "</table>\n",
       "</div>"
      ],
      "text/plain": [
       "    Loan_ID Gender Married Dependents Education Self_Employed  \\\n",
       "0  LP001002   Male      No          0  Graduate            No   \n",
       "1  LP001003   Male     Yes          1  Graduate            No   \n",
       "2  LP001005   Male     Yes          0  Graduate           Yes   \n",
       "\n",
       "   ApplicantIncome  CoapplicantIncome  LoanAmount  Loan_Amount_Term  \\\n",
       "0             5849                0.0         NaN             360.0   \n",
       "1             4583             1508.0       128.0             360.0   \n",
       "2             3000                0.0        66.0             360.0   \n",
       "\n",
       "   Credit_History Property_Area Loan_Status  \n",
       "0             1.0         Urban           Y  \n",
       "1             1.0         Rural           N  \n",
       "2             1.0         Urban           Y  "
      ]
     },
     "execution_count": 5,
     "metadata": {},
     "output_type": "execute_result"
    }
   ],
   "source": [
    "df.head(3)"
   ]
  },
  {
   "cell_type": "raw",
   "id": "c78a6744-6177-4bf7-aaf5-e2c895d34061",
   "metadata": {},
   "source": [
    "cat_col = ['Gender', 'Married','Dependents', 'Education', 'Self_Employed','Loan_Amount_Term', 'Credit_History', 'Property_Area', 'Loan_Status']\n",
    "cont_col = ['ApplicantIncome','CoapplicantIncome','LoanAmount']"
   ]
  },
  {
   "cell_type": "code",
   "execution_count": 6,
   "id": "bfddab35-f84a-4cd4-aabb-614157a5ef93",
   "metadata": {},
   "outputs": [
    {
     "name": "stdout",
     "output_type": "stream",
     "text": [
      "Loan_ID : 614\n",
      "Gender : 2\n",
      "Married : 2\n",
      "Dependents : 4\n",
      "Education : 2\n",
      "Self_Employed : 2\n",
      "ApplicantIncome : 505\n",
      "CoapplicantIncome : 287\n",
      "LoanAmount : 203\n",
      "Loan_Amount_Term : 10\n",
      "Credit_History : 2\n",
      "Property_Area : 3\n",
      "Loan_Status : 2\n"
     ]
    }
   ],
   "source": [
    "for i in df.columns:\n",
    "    print(i,':',df[i].nunique())"
   ]
  },
  {
   "cell_type": "code",
   "execution_count": 7,
   "id": "56404837-3345-4192-ae50-e54b2be450ab",
   "metadata": {},
   "outputs": [
    {
     "data": {
      "text/plain": [
       "Loan_Status\n",
       "Y    0.687296\n",
       "N    0.312704\n",
       "Name: count, dtype: float64"
      ]
     },
     "execution_count": 7,
     "metadata": {},
     "output_type": "execute_result"
    }
   ],
   "source": [
    "df['Loan_Status'].value_counts()/df.shape[0]"
   ]
  },
  {
   "cell_type": "markdown",
   "id": "124e6829-e1df-4a4e-bfb9-899c63d80e20",
   "metadata": {},
   "source": [
    "## Handling Null Values"
   ]
  },
  {
   "cell_type": "code",
   "execution_count": 8,
   "id": "a9125a3a-667e-4c1e-98ea-d58b4ce16860",
   "metadata": {},
   "outputs": [
    {
     "data": {
      "text/plain": [
       "(614, 13)"
      ]
     },
     "execution_count": 8,
     "metadata": {},
     "output_type": "execute_result"
    }
   ],
   "source": [
    "df.shape"
   ]
  },
  {
   "cell_type": "code",
   "execution_count": 9,
   "id": "cb4a3c9c-9e3d-4ee9-b80c-9865b7789ca4",
   "metadata": {},
   "outputs": [
    {
     "data": {
      "text/plain": [
       "Loan_ID               0\n",
       "Gender               13\n",
       "Married               3\n",
       "Dependents           15\n",
       "Education             0\n",
       "Self_Employed        32\n",
       "ApplicantIncome       0\n",
       "CoapplicantIncome     0\n",
       "LoanAmount           22\n",
       "Loan_Amount_Term     14\n",
       "Credit_History       50\n",
       "Property_Area         0\n",
       "Loan_Status           0\n",
       "dtype: int64"
      ]
     },
     "execution_count": 9,
     "metadata": {},
     "output_type": "execute_result"
    }
   ],
   "source": [
    "df.isnull().sum()"
   ]
  },
  {
   "cell_type": "code",
   "execution_count": 10,
   "id": "4f265806-4113-4b19-a2c6-d201dbef71b6",
   "metadata": {},
   "outputs": [],
   "source": [
    "cat_col = ['Gender', 'Married','Dependents', 'Self_Employed','Loan_Amount_Term', 'Credit_History']\n",
    "for col in cat_col:\n",
    "    val = df[col].mode().values[0]\n",
    "    df[col] = df[col].fillna(val)"
   ]
  },
  {
   "cell_type": "code",
   "execution_count": 11,
   "id": "54900cb9-86b2-4016-87f0-4d97144ffcf2",
   "metadata": {},
   "outputs": [],
   "source": [
    "value = df['LoanAmount'].median()\n",
    "df['LoanAmount'] = df['LoanAmount'].fillna(val)"
   ]
  },
  {
   "cell_type": "code",
   "execution_count": 12,
   "id": "710725de-0049-42c1-9832-a0d96ac162ca",
   "metadata": {},
   "outputs": [
    {
     "data": {
      "text/plain": [
       "Loan_ID              0\n",
       "Gender               0\n",
       "Married              0\n",
       "Dependents           0\n",
       "Education            0\n",
       "Self_Employed        0\n",
       "ApplicantIncome      0\n",
       "CoapplicantIncome    0\n",
       "LoanAmount           0\n",
       "Loan_Amount_Term     0\n",
       "Credit_History       0\n",
       "Property_Area        0\n",
       "Loan_Status          0\n",
       "dtype: int64"
      ]
     },
     "execution_count": 12,
     "metadata": {},
     "output_type": "execute_result"
    }
   ],
   "source": [
    "df.isnull().sum()"
   ]
  },
  {
   "cell_type": "markdown",
   "id": "550dce00-737c-4a2f-91ce-7b5859c745c3",
   "metadata": {},
   "source": [
    "## Handling Outliers"
   ]
  },
  {
   "cell_type": "code",
   "execution_count": 13,
   "id": "856d8a64-0f94-4fe6-8244-19a92e9e4ef9",
   "metadata": {},
   "outputs": [
    {
     "data": {
      "image/png": "[encoded data removed]",
      "text/plain": [
       "<Figure size 640x480 with 1 Axes>"
      ]
     },
     "metadata": {},
     "output_type": "display_data"
    },
    {
     "data": {
      "image/png": "[encoded data removed]",
      "text/plain": [
       "<Figure size 640x480 with 1 Axes>"
      ]
     },
     "metadata": {},
     "output_type": "display_data"
    },
    {
     "data": {
      "image/png": "[encoded data removed]",
      "text/plain": [
       "<Figure size 640x480 with 1 Axes>"
      ]
     },
     "metadata": {},
     "output_type": "display_data"
    }
   ],
   "source": [
    "for col in ['ApplicantIncome','CoapplicantIncome','LoanAmount']:\n",
    "    sns.boxplot(df[col],orient='h')\n",
    "    plt.show()"
   ]
  },
  {
   "cell_type": "code",
   "execution_count": 14,
   "id": "286f0b93-8917-4aaa-a121-e2df90838339",
   "metadata": {},
   "outputs": [],
   "source": [
    "def get_ll_ul(xx_df,col):\n",
    "    q1 = xx_df[col].quantile(0.25)\n",
    "    q3 = xx_df[col].quantile(0.75)\n",
    "    iqr = q3-q1\n",
    "    ll = q1-1.5*iqr\n",
    "    ul = q3+1.5*iqr\n",
    "    return(ll,ul)"
   ]
  },
  {
   "cell_type": "code",
   "execution_count": 15,
   "id": "9ae54cff-20d1-4b6b-ab39-c0ee2fb45dcd",
   "metadata": {},
   "outputs": [
    {
     "name": "stdout",
     "output_type": "stream",
     "text": [
      "ApplicantIncome\n",
      "-1498.75 10171.25\n",
      "8.143322475570033\n",
      "50\n",
      "______________________________\n",
      "CoapplicantIncome\n",
      "-3445.875 5743.125\n",
      "2.9315960912052117\n",
      "18\n",
      "______________________________\n",
      "LoanAmount\n",
      "-2.125 264.875\n",
      "6.677524429967427\n",
      "41\n",
      "______________________________\n"
     ]
    }
   ],
   "source": [
    "for col in ['ApplicantIncome', 'CoapplicantIncome', 'LoanAmount']:\n",
    "    ll,ul = get_ll_ul(df,col)\n",
    "    total_records = df.shape[0]\n",
    "    selected_records = df[(df[col]<ll)|(df[col]>ul)].shape[0]\n",
    "    record_percent = (selected_records/total_records)*100\n",
    "    print(col)\n",
    "    print(ll,ul)\n",
    "    print(record_percent)\n",
    "    print(selected_records)\n",
    "    print('______________________________')"
   ]
  },
  {
   "cell_type": "code",
   "execution_count": 16,
   "id": "0c10dfc1-1751-4af2-adbb-3234c7f77746",
   "metadata": {},
   "outputs": [],
   "source": [
    "df = df[(df['LoanAmount']>=-2.125)&(df['LoanAmount']<=264.875)]\n",
    "df.reset_index(drop=True,inplace=True)"
   ]
  },
  {
   "cell_type": "code",
   "execution_count": 17,
   "id": "c7fc03d6-c1de-4bd6-9586-5eb4c2798c6b",
   "metadata": {},
   "outputs": [
    {
     "data": {
      "text/plain": [
       "(573, 13)"
      ]
     },
     "execution_count": 17,
     "metadata": {},
     "output_type": "execute_result"
    }
   ],
   "source": [
    "df.shape"
   ]
  },
  {
   "cell_type": "markdown",
   "id": "d9c05196-d0c6-4310-a0c5-ec4fc6ba66a3",
   "metadata": {},
   "source": [
    "## Encoding"
   ]
  },
  {
   "cell_type": "code",
   "execution_count": 18,
   "id": "8a8dadc1-25f8-48d2-beea-24f8dbb55381",
   "metadata": {},
   "outputs": [],
   "source": [
    "from sklearn.preprocessing import LabelEncoder"
   ]
  },
  {
   "cell_type": "code",
   "execution_count": 19,
   "id": "ead3a1ad-8315-4aeb-b4f2-7848e1f8ee44",
   "metadata": {},
   "outputs": [],
   "source": [
    "le = LabelEncoder()"
   ]
  },
  {
   "cell_type": "code",
   "execution_count": 20,
   "id": "dd0cf18f-56f2-40e4-b19c-dbc388ccc305",
   "metadata": {},
   "outputs": [
    {
     "name": "stdout",
     "output_type": "stream",
     "text": [
      "Gender\n",
      "{'Female': 0, 'Male': 1}\n",
      "Married\n",
      "{'No': 0, 'Yes': 1}\n",
      "Dependents\n",
      "{'0': 0, '1': 1, '2': 2, '3+': 3}\n",
      "Education\n",
      "{'Graduate': 0, 'Not Graduate': 1}\n",
      "Self_Employed\n",
      "{'No': 0, 'Yes': 1}\n",
      "Property_Area\n",
      "{'Rural': 0, 'Semiurban': 1, 'Urban': 2}\n",
      "Loan_Status\n",
      "{'N': 0, 'Y': 1}\n"
     ]
    }
   ],
   "source": [
    "mapping_dict = {}\n",
    "for col in ['Gender', 'Married','Dependents', 'Education', 'Self_Employed','Property_Area', 'Loan_Status']:\n",
    "    df[col] = le.fit_transform(df[col])\n",
    "    print(col)\n",
    "    print(dict(zip(le.classes_,sorted(df[col].unique()))))\n",
    "    tmp_dict = dict(zip(le.classes_,sorted(df[col].unique())))\n",
    "    mapping_dict.update(tmp_dict)"
   ]
  },
  {
   "cell_type": "code",
   "execution_count": 21,
   "id": "c5e18e8d-f7d4-4faa-843b-36502078afe6",
   "metadata": {},
   "outputs": [
    {
     "data": {
      "text/plain": [
       "{'Female': 0,\n",
       " 'Male': 1,\n",
       " 'No': 0,\n",
       " 'Yes': 1,\n",
       " '0': 0,\n",
       " '1': 1,\n",
       " '2': 2,\n",
       " '3+': 3,\n",
       " 'Graduate': 0,\n",
       " 'Not Graduate': 1,\n",
       " 'Rural': 0,\n",
       " 'Semiurban': 1,\n",
       " 'Urban': 2,\n",
       " 'N': 0,\n",
       " 'Y': 1}"
      ]
     },
     "execution_count": 21,
     "metadata": {},
     "output_type": "execute_result"
    }
   ],
   "source": [
    "mapping_dict"
   ]
  },
  {
   "cell_type": "code",
   "execution_count": 22,
   "id": "c87ba94c-2caa-4cbd-8073-68a2a7ce9b0f",
   "metadata": {},
   "outputs": [
    {
     "data": {
      "text/html": [
       "<div>\n",
       "<style scoped>\n",
       "    .dataframe tbody tr th:only-of-type {\n",
       "        vertical-align: middle;\n",
       "    }\n",
       "\n",
       "    .dataframe tbody tr th {\n",
       "        vertical-align: top;\n",
       "    }\n",
       "\n",
       "    .dataframe thead th {\n",
       "        text-align: right;\n",
       "    }\n",
       "</style>\n",
       "<table border=\"1\" class=\"dataframe\">\n",
       "  <thead>\n",
       "    <tr style=\"text-align: right;\">\n",
       "      <th></th>\n",
       "      <th>id</th>\n",
       "      <th>value</th>\n",
       "    </tr>\n",
       "  </thead>\n",
       "  <tbody>\n",
       "    <tr>\n",
       "      <th>0</th>\n",
       "      <td>Female</td>\n",
       "      <td>0</td>\n",
       "    </tr>\n",
       "    <tr>\n",
       "      <th>1</th>\n",
       "      <td>Male</td>\n",
       "      <td>1</td>\n",
       "    </tr>\n",
       "    <tr>\n",
       "      <th>2</th>\n",
       "      <td>No</td>\n",
       "      <td>0</td>\n",
       "    </tr>\n",
       "    <tr>\n",
       "      <th>3</th>\n",
       "      <td>Yes</td>\n",
       "      <td>1</td>\n",
       "    </tr>\n",
       "    <tr>\n",
       "      <th>4</th>\n",
       "      <td>0</td>\n",
       "      <td>0</td>\n",
       "    </tr>\n",
       "    <tr>\n",
       "      <th>5</th>\n",
       "      <td>1</td>\n",
       "      <td>1</td>\n",
       "    </tr>\n",
       "    <tr>\n",
       "      <th>6</th>\n",
       "      <td>2</td>\n",
       "      <td>2</td>\n",
       "    </tr>\n",
       "    <tr>\n",
       "      <th>7</th>\n",
       "      <td>3+</td>\n",
       "      <td>3</td>\n",
       "    </tr>\n",
       "    <tr>\n",
       "      <th>8</th>\n",
       "      <td>Graduate</td>\n",
       "      <td>0</td>\n",
       "    </tr>\n",
       "    <tr>\n",
       "      <th>9</th>\n",
       "      <td>Not Graduate</td>\n",
       "      <td>1</td>\n",
       "    </tr>\n",
       "    <tr>\n",
       "      <th>10</th>\n",
       "      <td>Rural</td>\n",
       "      <td>0</td>\n",
       "    </tr>\n",
       "    <tr>\n",
       "      <th>11</th>\n",
       "      <td>Semiurban</td>\n",
       "      <td>1</td>\n",
       "    </tr>\n",
       "    <tr>\n",
       "      <th>12</th>\n",
       "      <td>Urban</td>\n",
       "      <td>2</td>\n",
       "    </tr>\n",
       "    <tr>\n",
       "      <th>13</th>\n",
       "      <td>N</td>\n",
       "      <td>0</td>\n",
       "    </tr>\n",
       "    <tr>\n",
       "      <th>14</th>\n",
       "      <td>Y</td>\n",
       "      <td>1</td>\n",
       "    </tr>\n",
       "  </tbody>\n",
       "</table>\n",
       "</div>"
      ],
      "text/plain": [
       "              id  value\n",
       "0         Female      0\n",
       "1           Male      1\n",
       "2             No      0\n",
       "3            Yes      1\n",
       "4              0      0\n",
       "5              1      1\n",
       "6              2      2\n",
       "7             3+      3\n",
       "8       Graduate      0\n",
       "9   Not Graduate      1\n",
       "10         Rural      0\n",
       "11     Semiurban      1\n",
       "12         Urban      2\n",
       "13             N      0\n",
       "14             Y      1"
      ]
     },
     "execution_count": 22,
     "metadata": {},
     "output_type": "execute_result"
    }
   ],
   "source": [
    "encode_df = pd.DataFrame(mapping_dict.items(),columns=['id','value'])\n",
    "encode_df"
   ]
  },
  {
   "cell_type": "code",
   "execution_count": 23,
   "id": "33aecab0-3985-4265-acf7-8c1db9deb7a0",
   "metadata": {},
   "outputs": [],
   "source": [
    "encode_df.to_csv('mapping_dict_train_dataset.csv',index=False)"
   ]
  },
  {
   "cell_type": "code",
   "execution_count": 24,
   "id": "1363defb-af4e-406b-b500-e05996a47632",
   "metadata": {},
   "outputs": [
    {
     "data": {
      "text/html": [
       "<div>\n",
       "<style scoped>\n",
       "    .dataframe tbody tr th:only-of-type {\n",
       "        vertical-align: middle;\n",
       "    }\n",
       "\n",
       "    .dataframe tbody tr th {\n",
       "        vertical-align: top;\n",
       "    }\n",
       "\n",
       "    .dataframe thead th {\n",
       "        text-align: right;\n",
       "    }\n",
       "</style>\n",
       "<table border=\"1\" class=\"dataframe\">\n",
       "  <thead>\n",
       "    <tr style=\"text-align: right;\">\n",
       "      <th></th>\n",
       "      <th>Loan_ID</th>\n",
       "      <th>Gender</th>\n",
       "      <th>Married</th>\n",
       "      <th>Dependents</th>\n",
       "      <th>Education</th>\n",
       "      <th>Self_Employed</th>\n",
       "      <th>ApplicantIncome</th>\n",
       "      <th>CoapplicantIncome</th>\n",
       "      <th>LoanAmount</th>\n",
       "      <th>Loan_Amount_Term</th>\n",
       "      <th>Credit_History</th>\n",
       "      <th>Property_Area</th>\n",
       "      <th>Loan_Status</th>\n",
       "    </tr>\n",
       "  </thead>\n",
       "  <tbody>\n",
       "    <tr>\n",
       "      <th>0</th>\n",
       "      <td>LP001002</td>\n",
       "      <td>1</td>\n",
       "      <td>0</td>\n",
       "      <td>0</td>\n",
       "      <td>0</td>\n",
       "      <td>0</td>\n",
       "      <td>5849</td>\n",
       "      <td>0.0</td>\n",
       "      <td>1.0</td>\n",
       "      <td>360.0</td>\n",
       "      <td>1.0</td>\n",
       "      <td>2</td>\n",
       "      <td>1</td>\n",
       "    </tr>\n",
       "    <tr>\n",
       "      <th>1</th>\n",
       "      <td>LP001003</td>\n",
       "      <td>1</td>\n",
       "      <td>1</td>\n",
       "      <td>1</td>\n",
       "      <td>0</td>\n",
       "      <td>0</td>\n",
       "      <td>4583</td>\n",
       "      <td>1508.0</td>\n",
       "      <td>128.0</td>\n",
       "      <td>360.0</td>\n",
       "      <td>1.0</td>\n",
       "      <td>0</td>\n",
       "      <td>0</td>\n",
       "    </tr>\n",
       "    <tr>\n",
       "      <th>2</th>\n",
       "      <td>LP001005</td>\n",
       "      <td>1</td>\n",
       "      <td>1</td>\n",
       "      <td>0</td>\n",
       "      <td>0</td>\n",
       "      <td>1</td>\n",
       "      <td>3000</td>\n",
       "      <td>0.0</td>\n",
       "      <td>66.0</td>\n",
       "      <td>360.0</td>\n",
       "      <td>1.0</td>\n",
       "      <td>2</td>\n",
       "      <td>1</td>\n",
       "    </tr>\n",
       "  </tbody>\n",
       "</table>\n",
       "</div>"
      ],
      "text/plain": [
       "    Loan_ID  Gender  Married  Dependents  Education  Self_Employed  \\\n",
       "0  LP001002       1        0           0          0              0   \n",
       "1  LP001003       1        1           1          0              0   \n",
       "2  LP001005       1        1           0          0              1   \n",
       "\n",
       "   ApplicantIncome  CoapplicantIncome  LoanAmount  Loan_Amount_Term  \\\n",
       "0             5849                0.0         1.0             360.0   \n",
       "1             4583             1508.0       128.0             360.0   \n",
       "2             3000                0.0        66.0             360.0   \n",
       "\n",
       "   Credit_History  Property_Area  Loan_Status  \n",
       "0             1.0              2            1  \n",
       "1             1.0              0            0  \n",
       "2             1.0              2            1  "
      ]
     },
     "execution_count": 24,
     "metadata": {},
     "output_type": "execute_result"
    }
   ],
   "source": [
    "df.head(3)"
   ]
  },
  {
   "cell_type": "code",
   "execution_count": 25,
   "id": "74ead2fe-0dcc-4640-adfc-067b4ad26baa",
   "metadata": {},
   "outputs": [],
   "source": [
    "df.drop('Loan_ID',inplace=True,axis=1)"
   ]
  },
  {
   "cell_type": "markdown",
   "id": "541d6737-9324-4ed4-8530-e7b5fa4fdb94",
   "metadata": {},
   "source": [
    "## Correlation Check"
   ]
  },
  {
   "cell_type": "code",
   "execution_count": 26,
   "id": "6e8088c2-37ba-4437-b5b0-20adaf16aad0",
   "metadata": {},
   "outputs": [
    {
     "data": {
      "text/html": [
       "<div>\n",
       "<style scoped>\n",
       "    .dataframe tbody tr th:only-of-type {\n",
       "        vertical-align: middle;\n",
       "    }\n",
       "\n",
       "    .dataframe tbody tr th {\n",
       "        vertical-align: top;\n",
       "    }\n",
       "\n",
       "    .dataframe thead th {\n",
       "        text-align: right;\n",
       "    }\n",
       "</style>\n",
       "<table border=\"1\" class=\"dataframe\">\n",
       "  <thead>\n",
       "    <tr style=\"text-align: right;\">\n",
       "      <th></th>\n",
       "      <th>Gender</th>\n",
       "      <th>Married</th>\n",
       "      <th>Dependents</th>\n",
       "      <th>Education</th>\n",
       "      <th>Self_Employed</th>\n",
       "      <th>ApplicantIncome</th>\n",
       "      <th>CoapplicantIncome</th>\n",
       "      <th>LoanAmount</th>\n",
       "      <th>Loan_Amount_Term</th>\n",
       "      <th>Credit_History</th>\n",
       "      <th>Property_Area</th>\n",
       "      <th>Loan_Status</th>\n",
       "    </tr>\n",
       "  </thead>\n",
       "  <tbody>\n",
       "    <tr>\n",
       "      <th>Gender</th>\n",
       "      <td>1.000000</td>\n",
       "      <td>0.375391</td>\n",
       "      <td>0.180098</td>\n",
       "      <td>0.051298</td>\n",
       "      <td>0.008485</td>\n",
       "      <td>0.035873</td>\n",
       "      <td>0.144647</td>\n",
       "      <td>0.121751</td>\n",
       "      <td>-0.084473</td>\n",
       "      <td>0.003977</td>\n",
       "      <td>-0.015454</td>\n",
       "      <td>0.020720</td>\n",
       "    </tr>\n",
       "    <tr>\n",
       "      <th>Married</th>\n",
       "      <td>0.375391</td>\n",
       "      <td>1.000000</td>\n",
       "      <td>0.342752</td>\n",
       "      <td>0.018311</td>\n",
       "      <td>-0.001509</td>\n",
       "      <td>-0.010384</td>\n",
       "      <td>0.118932</td>\n",
       "      <td>0.155051</td>\n",
       "      <td>-0.100404</td>\n",
       "      <td>0.023116</td>\n",
       "      <td>-0.003964</td>\n",
       "      <td>0.092127</td>\n",
       "    </tr>\n",
       "    <tr>\n",
       "      <th>Dependents</th>\n",
       "      <td>0.180098</td>\n",
       "      <td>0.342752</td>\n",
       "      <td>1.000000</td>\n",
       "      <td>0.081040</td>\n",
       "      <td>0.040190</td>\n",
       "      <td>0.027906</td>\n",
       "      <td>-0.048482</td>\n",
       "      <td>0.089173</td>\n",
       "      <td>-0.096469</td>\n",
       "      <td>-0.024022</td>\n",
       "      <td>0.017670</td>\n",
       "      <td>0.011922</td>\n",
       "    </tr>\n",
       "    <tr>\n",
       "      <th>Education</th>\n",
       "      <td>0.051298</td>\n",
       "      <td>0.018311</td>\n",
       "      <td>0.081040</td>\n",
       "      <td>1.000000</td>\n",
       "      <td>0.000692</td>\n",
       "      <td>-0.130331</td>\n",
       "      <td>-0.057631</td>\n",
       "      <td>-0.132005</td>\n",
       "      <td>-0.066620</td>\n",
       "      <td>-0.075997</td>\n",
       "      <td>-0.070342</td>\n",
       "      <td>-0.099899</td>\n",
       "    </tr>\n",
       "    <tr>\n",
       "      <th>Self_Employed</th>\n",
       "      <td>0.008485</td>\n",
       "      <td>-0.001509</td>\n",
       "      <td>0.040190</td>\n",
       "      <td>0.000692</td>\n",
       "      <td>1.000000</td>\n",
       "      <td>0.224584</td>\n",
       "      <td>-0.020198</td>\n",
       "      <td>0.083551</td>\n",
       "      <td>-0.054266</td>\n",
       "      <td>0.010382</td>\n",
       "      <td>-0.026244</td>\n",
       "      <td>-0.017901</td>\n",
       "    </tr>\n",
       "    <tr>\n",
       "      <th>ApplicantIncome</th>\n",
       "      <td>0.035873</td>\n",
       "      <td>-0.010384</td>\n",
       "      <td>0.027906</td>\n",
       "      <td>-0.130331</td>\n",
       "      <td>0.224584</td>\n",
       "      <td>1.000000</td>\n",
       "      <td>-0.162461</td>\n",
       "      <td>0.268782</td>\n",
       "      <td>-0.017091</td>\n",
       "      <td>0.043042</td>\n",
       "      <td>-0.000924</td>\n",
       "      <td>0.011053</td>\n",
       "    </tr>\n",
       "    <tr>\n",
       "      <th>CoapplicantIncome</th>\n",
       "      <td>0.144647</td>\n",
       "      <td>0.118932</td>\n",
       "      <td>-0.048482</td>\n",
       "      <td>-0.057631</td>\n",
       "      <td>-0.020198</td>\n",
       "      <td>-0.162461</td>\n",
       "      <td>1.000000</td>\n",
       "      <td>0.167555</td>\n",
       "      <td>-0.002482</td>\n",
       "      <td>0.006817</td>\n",
       "      <td>-0.009439</td>\n",
       "      <td>-0.005103</td>\n",
       "    </tr>\n",
       "    <tr>\n",
       "      <th>LoanAmount</th>\n",
       "      <td>0.121751</td>\n",
       "      <td>0.155051</td>\n",
       "      <td>0.089173</td>\n",
       "      <td>-0.132005</td>\n",
       "      <td>0.083551</td>\n",
       "      <td>0.268782</td>\n",
       "      <td>0.167555</td>\n",
       "      <td>1.000000</td>\n",
       "      <td>0.077994</td>\n",
       "      <td>0.002355</td>\n",
       "      <td>-0.099352</td>\n",
       "      <td>0.015293</td>\n",
       "    </tr>\n",
       "    <tr>\n",
       "      <th>Loan_Amount_Term</th>\n",
       "      <td>-0.084473</td>\n",
       "      <td>-0.100404</td>\n",
       "      <td>-0.096469</td>\n",
       "      <td>-0.066620</td>\n",
       "      <td>-0.054266</td>\n",
       "      <td>-0.017091</td>\n",
       "      <td>-0.002482</td>\n",
       "      <td>0.077994</td>\n",
       "      <td>1.000000</td>\n",
       "      <td>-0.012008</td>\n",
       "      <td>-0.073093</td>\n",
       "      <td>-0.018222</td>\n",
       "    </tr>\n",
       "    <tr>\n",
       "      <th>Credit_History</th>\n",
       "      <td>0.003977</td>\n",
       "      <td>0.023116</td>\n",
       "      <td>-0.024022</td>\n",
       "      <td>-0.075997</td>\n",
       "      <td>0.010382</td>\n",
       "      <td>0.043042</td>\n",
       "      <td>0.006817</td>\n",
       "      <td>0.002355</td>\n",
       "      <td>-0.012008</td>\n",
       "      <td>1.000000</td>\n",
       "      <td>-0.003955</td>\n",
       "      <td>0.558304</td>\n",
       "    </tr>\n",
       "    <tr>\n",
       "      <th>Property_Area</th>\n",
       "      <td>-0.015454</td>\n",
       "      <td>-0.003964</td>\n",
       "      <td>0.017670</td>\n",
       "      <td>-0.070342</td>\n",
       "      <td>-0.026244</td>\n",
       "      <td>-0.000924</td>\n",
       "      <td>-0.009439</td>\n",
       "      <td>-0.099352</td>\n",
       "      <td>-0.073093</td>\n",
       "      <td>-0.003955</td>\n",
       "      <td>1.000000</td>\n",
       "      <td>0.014790</td>\n",
       "    </tr>\n",
       "    <tr>\n",
       "      <th>Loan_Status</th>\n",
       "      <td>0.020720</td>\n",
       "      <td>0.092127</td>\n",
       "      <td>0.011922</td>\n",
       "      <td>-0.099899</td>\n",
       "      <td>-0.017901</td>\n",
       "      <td>0.011053</td>\n",
       "      <td>-0.005103</td>\n",
       "      <td>0.015293</td>\n",
       "      <td>-0.018222</td>\n",
       "      <td>0.558304</td>\n",
       "      <td>0.014790</td>\n",
       "      <td>1.000000</td>\n",
       "    </tr>\n",
       "  </tbody>\n",
       "</table>\n",
       "</div>"
      ],
      "text/plain": [
       "                     Gender   Married  Dependents  Education  Self_Employed  \\\n",
       "Gender             1.000000  0.375391    0.180098   0.051298       0.008485   \n",
       "Married            0.375391  1.000000    0.342752   0.018311      -0.001509   \n",
       "Dependents         0.180098  0.342752    1.000000   0.081040       0.040190   \n",
       "Education          0.051298  0.018311    0.081040   1.000000       0.000692   \n",
       "Self_Employed      0.008485 -0.001509    0.040190   0.000692       1.000000   \n",
       "ApplicantIncome    0.035873 -0.010384    0.027906  -0.130331       0.224584   \n",
       "CoapplicantIncome  0.144647  0.118932   -0.048482  -0.057631      -0.020198   \n",
       "LoanAmount         0.121751  0.155051    0.089173  -0.132005       0.083551   \n",
       "Loan_Amount_Term  -0.084473 -0.100404   -0.096469  -0.066620      -0.054266   \n",
       "Credit_History     0.003977  0.023116   -0.024022  -0.075997       0.010382   \n",
       "Property_Area     -0.015454 -0.003964    0.017670  -0.070342      -0.026244   \n",
       "Loan_Status        0.020720  0.092127    0.011922  -0.099899      -0.017901   \n",
       "\n",
       "                   ApplicantIncome  CoapplicantIncome  LoanAmount  \\\n",
       "Gender                    0.035873           0.144647    0.121751   \n",
       "Married                  -0.010384           0.118932    0.155051   \n",
       "Dependents                0.027906          -0.048482    0.089173   \n",
       "Education                -0.130331          -0.057631   -0.132005   \n",
       "Self_Employed             0.224584          -0.020198    0.083551   \n",
       "ApplicantIncome           1.000000          -0.162461    0.268782   \n",
       "CoapplicantIncome        -0.162461           1.000000    0.167555   \n",
       "LoanAmount                0.268782           0.167555    1.000000   \n",
       "Loan_Amount_Term         -0.017091          -0.002482    0.077994   \n",
       "Credit_History            0.043042           0.006817    0.002355   \n",
       "Property_Area            -0.000924          -0.009439   -0.099352   \n",
       "Loan_Status               0.011053          -0.005103    0.015293   \n",
       "\n",
       "                   Loan_Amount_Term  Credit_History  Property_Area  \\\n",
       "Gender                    -0.084473        0.003977      -0.015454   \n",
       "Married                   -0.100404        0.023116      -0.003964   \n",
       "Dependents                -0.096469       -0.024022       0.017670   \n",
       "Education                 -0.066620       -0.075997      -0.070342   \n",
       "Self_Employed             -0.054266        0.010382      -0.026244   \n",
       "ApplicantIncome           -0.017091        0.043042      -0.000924   \n",
       "CoapplicantIncome         -0.002482        0.006817      -0.009439   \n",
       "LoanAmount                 0.077994        0.002355      -0.099352   \n",
       "Loan_Amount_Term           1.000000       -0.012008      -0.073093   \n",
       "Credit_History            -0.012008        1.000000      -0.003955   \n",
       "Property_Area             -0.073093       -0.003955       1.000000   \n",
       "Loan_Status               -0.018222        0.558304       0.014790   \n",
       "\n",
       "                   Loan_Status  \n",
       "Gender                0.020720  \n",
       "Married               0.092127  \n",
       "Dependents            0.011922  \n",
       "Education            -0.099899  \n",
       "Self_Employed        -0.017901  \n",
       "ApplicantIncome       0.011053  \n",
       "CoapplicantIncome    -0.005103  \n",
       "LoanAmount            0.015293  \n",
       "Loan_Amount_Term     -0.018222  \n",
       "Credit_History        0.558304  \n",
       "Property_Area         0.014790  \n",
       "Loan_Status           1.000000  "
      ]
     },
     "execution_count": 26,
     "metadata": {},
     "output_type": "execute_result"
    }
   ],
   "source": [
    "df.corr()"
   ]
  },
  {
   "cell_type": "markdown",
   "id": "dc0f112b-0759-48bc-8416-4f3bff332cff",
   "metadata": {},
   "source": [
    "## Standardization"
   ]
  },
  {
   "cell_type": "code",
   "execution_count": 27,
   "id": "2adfb072-d7ee-4cb8-b74a-83761f30a58e",
   "metadata": {},
   "outputs": [],
   "source": [
    "from sklearn.preprocessing import StandardScaler"
   ]
  },
  {
   "cell_type": "code",
   "execution_count": 28,
   "id": "27a0c7e5-50dc-46a3-bc3a-7b7a140ff4fb",
   "metadata": {},
   "outputs": [],
   "source": [
    "x = df.iloc[:,:-1]\n",
    "y = df['Loan_Status']"
   ]
  },
  {
   "cell_type": "code",
   "execution_count": 29,
   "id": "04437d5d-bc81-451e-bdb9-658ad4927a87",
   "metadata": {},
   "outputs": [
    {
     "data": {
      "text/html": [
       "<div>\n",
       "<style scoped>\n",
       "    .dataframe tbody tr th:only-of-type {\n",
       "        vertical-align: middle;\n",
       "    }\n",
       "\n",
       "    .dataframe tbody tr th {\n",
       "        vertical-align: top;\n",
       "    }\n",
       "\n",
       "    .dataframe thead th {\n",
       "        text-align: right;\n",
       "    }\n",
       "</style>\n",
       "<table border=\"1\" class=\"dataframe\">\n",
       "  <thead>\n",
       "    <tr style=\"text-align: right;\">\n",
       "      <th></th>\n",
       "      <th>0</th>\n",
       "      <th>1</th>\n",
       "      <th>2</th>\n",
       "      <th>3</th>\n",
       "      <th>4</th>\n",
       "      <th>5</th>\n",
       "      <th>6</th>\n",
       "      <th>7</th>\n",
       "      <th>8</th>\n",
       "      <th>9</th>\n",
       "      <th>10</th>\n",
       "    </tr>\n",
       "  </thead>\n",
       "  <tbody>\n",
       "    <tr>\n",
       "      <th>0</th>\n",
       "      <td>0.47918</td>\n",
       "      <td>-1.350059</td>\n",
       "      <td>-0.718898</td>\n",
       "      <td>-0.549793</td>\n",
       "      <td>-0.382099</td>\n",
       "      <td>0.328911</td>\n",
       "      <td>-0.630154</td>\n",
       "      <td>-2.339179</td>\n",
       "      <td>0.271476</td>\n",
       "      <td>0.414462</td>\n",
       "      <td>1.224522</td>\n",
       "    </tr>\n",
       "    <tr>\n",
       "      <th>1</th>\n",
       "      <td>0.47918</td>\n",
       "      <td>0.740708</td>\n",
       "      <td>0.300727</td>\n",
       "      <td>-0.549793</td>\n",
       "      <td>-0.382099</td>\n",
       "      <td>-0.018351</td>\n",
       "      <td>0.012474</td>\n",
       "      <td>0.083806</td>\n",
       "      <td>0.271476</td>\n",
       "      <td>0.414462</td>\n",
       "      <td>-1.326937</td>\n",
       "    </tr>\n",
       "    <tr>\n",
       "      <th>2</th>\n",
       "      <td>0.47918</td>\n",
       "      <td>0.740708</td>\n",
       "      <td>-0.718898</td>\n",
       "      <td>-0.549793</td>\n",
       "      <td>2.617120</td>\n",
       "      <td>-0.452565</td>\n",
       "      <td>-0.630154</td>\n",
       "      <td>-1.099068</td>\n",
       "      <td>0.271476</td>\n",
       "      <td>0.414462</td>\n",
       "      <td>1.224522</td>\n",
       "    </tr>\n",
       "    <tr>\n",
       "      <th>3</th>\n",
       "      <td>0.47918</td>\n",
       "      <td>0.740708</td>\n",
       "      <td>-0.718898</td>\n",
       "      <td>1.818865</td>\n",
       "      <td>-0.382099</td>\n",
       "      <td>-0.566948</td>\n",
       "      <td>0.374698</td>\n",
       "      <td>-0.068823</td>\n",
       "      <td>0.271476</td>\n",
       "      <td>0.414462</td>\n",
       "      <td>1.224522</td>\n",
       "    </tr>\n",
       "    <tr>\n",
       "      <th>4</th>\n",
       "      <td>0.47918</td>\n",
       "      <td>-1.350059</td>\n",
       "      <td>-0.718898</td>\n",
       "      <td>-0.549793</td>\n",
       "      <td>-0.382099</td>\n",
       "      <td>0.370330</td>\n",
       "      <td>-0.630154</td>\n",
       "      <td>0.331828</td>\n",
       "      <td>0.271476</td>\n",
       "      <td>0.414462</td>\n",
       "      <td>1.224522</td>\n",
       "    </tr>\n",
       "  </tbody>\n",
       "</table>\n",
       "</div>"
      ],
      "text/plain": [
       "        0         1         2         3         4         5         6   \\\n",
       "0  0.47918 -1.350059 -0.718898 -0.549793 -0.382099  0.328911 -0.630154   \n",
       "1  0.47918  0.740708  0.300727 -0.549793 -0.382099 -0.018351  0.012474   \n",
       "2  0.47918  0.740708 -0.718898 -0.549793  2.617120 -0.452565 -0.630154   \n",
       "3  0.47918  0.740708 -0.718898  1.818865 -0.382099 -0.566948  0.374698   \n",
       "4  0.47918 -1.350059 -0.718898 -0.549793 -0.382099  0.370330 -0.630154   \n",
       "\n",
       "         7         8         9         10  \n",
       "0 -2.339179  0.271476  0.414462  1.224522  \n",
       "1  0.083806  0.271476  0.414462 -1.326937  \n",
       "2 -1.099068  0.271476  0.414462  1.224522  \n",
       "3 -0.068823  0.271476  0.414462  1.224522  \n",
       "4  0.331828  0.271476  0.414462  1.224522  "
      ]
     },
     "execution_count": 29,
     "metadata": {},
     "output_type": "execute_result"
    }
   ],
   "source": [
    "ss = StandardScaler()\n",
    "x_ft = ss.fit_transform(x)\n",
    "x_ft = pd.DataFrame(x_ft)\n",
    "x_ft.head()"
   ]
  },
  {
   "cell_type": "code",
   "execution_count": 30,
   "id": "f8896e9b-6132-4427-9d3e-5aa493e05731",
   "metadata": {},
   "outputs": [],
   "source": [
    "import pickle\n",
    "with open('./Standard_scaler.pkl','wb') as file:\n",
    "    pickle.dump(ss,file)"
   ]
  },
  {
   "cell_type": "markdown",
   "id": "4cb77f3b-d659-4408-9a30-a5b71a557675",
   "metadata": {},
   "source": [
    "## Train and Test data split"
   ]
  },
  {
   "cell_type": "code",
   "execution_count": 31,
   "id": "fff20ffa-a6e7-40ef-ac73-0e729ef7cb43",
   "metadata": {},
   "outputs": [],
   "source": [
    "from sklearn.model_selection import train_test_split"
   ]
  },
  {
   "cell_type": "code",
   "execution_count": 32,
   "id": "cc25f5de-1cb6-4fdf-9f10-3499a157a2b7",
   "metadata": {},
   "outputs": [],
   "source": [
    "xtrain,xtest,ytrain,ytest = train_test_split(x_ft,y,test_size=0.2,random_state=64)"
   ]
  },
  {
   "cell_type": "code",
   "execution_count": 33,
   "id": "9c84da97-c3d4-4c72-8d90-88cb50d3e951",
   "metadata": {},
   "outputs": [
    {
     "data": {
      "text/plain": [
       "((458, 11), (115, 11), (458,), (115,))"
      ]
     },
     "execution_count": 33,
     "metadata": {},
     "output_type": "execute_result"
    }
   ],
   "source": [
    "xtrain.shape,xtest.shape,ytrain.shape,ytest.shape"
   ]
  },
  {
   "cell_type": "markdown",
   "id": "c14cc10f-657e-4c02-baf9-312a446d36d7",
   "metadata": {},
   "source": [
    "## Model Selection"
   ]
  },
  {
   "cell_type": "markdown",
   "id": "da1c2d1b-04bf-49c6-97f1-434a16145194",
   "metadata": {
    "scrolled": true
   },
   "source": [
    "### Logistic Regression"
   ]
  },
  {
   "cell_type": "code",
   "execution_count": 34,
   "id": "7f5cd9bd-b1ab-42cf-bcf3-c35eed807d5d",
   "metadata": {},
   "outputs": [],
   "source": [
    "from sklearn.linear_model import LogisticRegression\n",
    "from sklearn.metrics import accuracy_score, classification_report"
   ]
  },
  {
   "cell_type": "code",
   "execution_count": 35,
   "id": "723b0257-e597-485d-a814-6ffe2f7904c3",
   "metadata": {},
   "outputs": [],
   "source": [
    "lr = LogisticRegression()\n",
    "lr.fit(xtrain,ytrain)\n",
    "pred = lr.predict(xtest)"
   ]
  },
  {
   "cell_type": "code",
   "execution_count": 36,
   "id": "2badf007-635a-4d5f-a479-f199bc6391a6",
   "metadata": {},
   "outputs": [
    {
     "data": {
      "text/plain": [
       "0.8608695652173913"
      ]
     },
     "execution_count": 36,
     "metadata": {},
     "output_type": "execute_result"
    }
   ],
   "source": [
    "accuracy_score(ytest,pred)"
   ]
  },
  {
   "cell_type": "code",
   "execution_count": 37,
   "id": "01b22f40-6228-4183-afc0-9a03e973ed5e",
   "metadata": {},
   "outputs": [
    {
     "name": "stdout",
     "output_type": "stream",
     "text": [
      "              precision    recall  f1-score   support\n",
      "\n",
      "           0       0.95      0.56      0.70        34\n",
      "           1       0.84      0.99      0.91        81\n",
      "\n",
      "    accuracy                           0.86       115\n",
      "   macro avg       0.90      0.77      0.81       115\n",
      "weighted avg       0.87      0.86      0.85       115\n",
      "\n"
     ]
    }
   ],
   "source": [
    "print(classification_report(ytest,pred))"
   ]
  },
  {
   "cell_type": "code",
   "execution_count": 38,
   "id": "78cf4c8f-2b7c-4293-8c07-2ef40950ffb9",
   "metadata": {},
   "outputs": [
    {
     "data": {
      "text/plain": [
       "0.8100436681222707"
      ]
     },
     "execution_count": 38,
     "metadata": {},
     "output_type": "execute_result"
    }
   ],
   "source": [
    "train_pred = lr.predict(xtrain)\n",
    "accuracy_score(ytrain,train_pred)"
   ]
  },
  {
   "cell_type": "markdown",
   "id": "0bd57adc-b385-41d7-a9c5-7c5ad80b499a",
   "metadata": {},
   "source": [
    "### Decision Tree Classifier"
   ]
  },
  {
   "cell_type": "code",
   "execution_count": 39,
   "id": "e57ef994-6e33-4066-9758-51ffedf4196b",
   "metadata": {},
   "outputs": [],
   "source": [
    "from sklearn.tree import DecisionTreeClassifier,plot_tree"
   ]
  },
  {
   "cell_type": "code",
   "execution_count": 40,
   "id": "d9445d72-858d-47f4-90ec-b18d8f4bb813",
   "metadata": {},
   "outputs": [],
   "source": [
    "dtc = DecisionTreeClassifier(max_depth=3)\n",
    "dtc.fit(xtrain,ytrain)\n",
    "pred = dtc.predict(xtest)"
   ]
  },
  {
   "cell_type": "code",
   "execution_count": 41,
   "id": "180ed4f5-55f1-4a6d-b789-ed84ee678e3a",
   "metadata": {},
   "outputs": [
    {
     "data": {
      "text/plain": [
       "0.8434782608695652"
      ]
     },
     "execution_count": 41,
     "metadata": {},
     "output_type": "execute_result"
    }
   ],
   "source": [
    "accuracy_score(pred,ytest)"
   ]
  },
  {
   "cell_type": "code",
   "execution_count": 42,
   "id": "06303eff-3460-4e80-b018-c632ff6fd2d0",
   "metadata": {},
   "outputs": [
    {
     "data": {
      "text/plain": [
       "0.8187772925764192"
      ]
     },
     "execution_count": 42,
     "metadata": {},
     "output_type": "execute_result"
    }
   ],
   "source": [
    "train_pred = dtc.predict(xtrain)\n",
    "accuracy_score(train_pred,ytrain)"
   ]
  },
  {
   "cell_type": "code",
   "execution_count": 43,
   "id": "33fd050c-66a4-4ef6-be27-f361ca5fbb51",
   "metadata": {},
   "outputs": [
    {
     "data": {
      "image/png": "[encoded data removed]",
      "text/plain": [
       "<Figure size 640x480 with 1 Axes>"
      ]
     },
     "metadata": {},
     "output_type": "display_data"
    }
   ],
   "source": [
    "plot_tree(dtc)\n",
    "plt.show()"
   ]
  },
  {
   "cell_type": "code",
   "execution_count": 48,
   "id": "14ffd8c1-7c28-467e-80a2-c42d27c07b3c",
   "metadata": {},
   "outputs": [],
   "source": [
    "from sklearn.model_selection import GridSearchCV"
   ]
  },
  {
   "cell_type": "code",
   "execution_count": 51,
   "id": "962df9df-baf1-4941-be13-e8159a10ca06",
   "metadata": {},
   "outputs": [],
   "source": [
    "dt1 = DecisionTreeClassifier()\n",
    "params = {\n",
    "    'max_depth':[2,3,4,5],\n",
    "    'min_samples_split':[30,40,50,60]\n",
    "}"
   ]
  },
  {
   "cell_type": "code",
   "execution_count": 52,
   "id": "06a77639-0dbf-46c8-8d7a-bb8ce3c6185b",
   "metadata": {},
   "outputs": [
    {
     "data": {
      "text/plain": [
       "0.8608695652173913"
      ]
     },
     "execution_count": 52,
     "metadata": {},
     "output_type": "execute_result"
    }
   ],
   "source": [
    "GridSearch = GridSearchCV(dt1,param_grid=params)\n",
    "GridSearch.fit(xtrain,ytrain)\n",
    "pred = GridSearch.predict(xtest)\n",
    "accuracy_score(pred,ytest)"
   ]
  },
  {
   "cell_type": "code",
   "execution_count": 53,
   "id": "56e50a47-4d90-4f0a-ba95-3895e8bb13a2",
   "metadata": {},
   "outputs": [
    {
     "data": {
      "text/plain": [
       "0.8078602620087336"
      ]
     },
     "execution_count": 53,
     "metadata": {},
     "output_type": "execute_result"
    }
   ],
   "source": [
    "train_pred = GridSearch.predict(xtrain)\n",
    "accuracy_score(train_pred,ytrain)"
   ]
  },
  {
   "cell_type": "markdown",
   "id": "b6f31ecc-281e-416b-9d19-b091dcf17f94",
   "metadata": {},
   "source": [
    "## Random Forest Classifier"
   ]
  },
  {
   "cell_type": "code",
   "execution_count": 44,
   "id": "f4d43cbe-9338-4ebc-bc76-66c484803f1b",
   "metadata": {},
   "outputs": [],
   "source": [
    "from sklearn.ensemble import RandomForestClassifier"
   ]
  },
  {
   "cell_type": "code",
   "execution_count": 45,
   "id": "b819f6b5-fefc-4101-b2cf-32415f6300f3",
   "metadata": {},
   "outputs": [
    {
     "data": {
      "text/plain": [
       "0.8173913043478261"
      ]
     },
     "execution_count": 45,
     "metadata": {},
     "output_type": "execute_result"
    }
   ],
   "source": [
    "rfc = RandomForestClassifier()\n",
    "rfc.fit(xtrain,ytrain)\n",
    "pred = rfc.predict(xtest)\n",
    "accuracy_score(pred,ytest)"
   ]
  },
  {
   "cell_type": "code",
   "execution_count": 46,
   "id": "2858fa0d-60e1-4888-a1f4-d546f9ff1180",
   "metadata": {},
   "outputs": [
    {
     "data": {
      "text/plain": [
       "1.0"
      ]
     },
     "execution_count": 46,
     "metadata": {},
     "output_type": "execute_result"
    }
   ],
   "source": [
    "train_pred = rfc.predict(xtrain)\n",
    "accuracy_score(train_pred,ytrain)"
   ]
  },
  {
   "cell_type": "markdown",
   "id": "34d76cd2-5980-4a1f-b9ce-4910eecbc55c",
   "metadata": {},
   "source": [
    "## Best Model"
   ]
  },
  {
   "cell_type": "code",
   "execution_count": 47,
   "id": "ba5e4126-0121-4b9f-b483-c62e660786bb",
   "metadata": {},
   "outputs": [],
   "source": [
    "with open('./Best_model.pkl','wb') as file:\n",
    "    pickle.dump(lr,file)"
   ]
  }
 ],
 "metadata": {
  "kernelspec": {
   "display_name": "Python 3 (ipykernel)",
   "language": "python",
   "name": "python3"
  },
  "language_info": {
   "codemirror_mode": {
    "name": "ipython",
    "version": 3
   },
   "file_extension": ".py",
   "mimetype": "text/x-python",
   "name": "python",
   "nbconvert_exporter": "python",
   "pygments_lexer": "ipython3",
   "version": "3.12.4"
  }
 },
 "nbformat": 4,
 "nbformat_minor": 5
}
